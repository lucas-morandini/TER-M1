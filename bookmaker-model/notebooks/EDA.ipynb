{
 "cells": [
  {
   "cell_type": "markdown",
   "metadata": {},
   "source": [
    "# Setup"
   ]
  },
  {
   "cell_type": "code",
   "execution_count": 1,
   "metadata": {},
   "outputs": [],
   "source": [
    "import sys\n",
    "import os\n",
    "\n",
    "sys.path.append(os.path.abspath(\"..\"))\n",
    "sys.dont_write_bytecode = True"
   ]
  },
  {
   "cell_type": "markdown",
   "metadata": {},
   "source": [
    "# Imports"
   ]
  },
  {
   "cell_type": "code",
   "execution_count": 2,
   "metadata": {},
   "outputs": [],
   "source": [
    "import numpy as np\n",
    "from src.data_preprocessing import preprocess_data\n",
    "import pandas as pd\n",
    "from sklearn.model_selection import train_test_split\n",
    "from sklearn.ensemble import RandomForestClassifier\n",
    "from sklearn.calibration import CalibratedClassifierCV\n",
    "from sklearn.ensemble import GradientBoostingClassifier\n",
    "\n",
    "from sklearn.model_selection import train_test_split\n",
    "from sklearn.metrics import accuracy_score, classification_report\n",
    "from sklearn.base import defaultdict\n",
    "from sklearn.preprocessing import StandardScaler\n",
    "from multiprocessing import Pool\n",
    "import matplotlib.pyplot as plt\n",
    "from sklearn.linear_model import LogisticRegression\n",
    "from imblearn.under_sampling import RandomUnderSampler\n",
    "from xgboost import XGBClassifier"
   ]
  },
  {
   "cell_type": "markdown",
   "metadata": {},
   "source": [
    "# Récupération des données & fusion des csv & pré-traitement"
   ]
  },
  {
   "cell_type": "code",
   "execution_count": 3,
   "metadata": {},
   "outputs": [
    {
     "name": "stderr",
     "output_type": "stream",
     "text": [
      "c:\\Users\\Jhinnz\\Desktop\\GITLAB\\ter-m1\\bookmaker-model\\src\\data_preprocessing.py:52: DtypeWarning: Columns (2,21,22,23,24,25,26,27) have mixed types. Specify dtype option on import or set low_memory=False.\n",
      "  full_df = pd.read_csv(f\"{input_folder}/all_matches_raw.csv\", sep=',')\n"
     ]
    },
    {
     "name": "stdout",
     "output_type": "stream",
     "text": [
      "Structure du DataFrame :\n",
      "     gameid datacompleteness  \\\n",
      "0  TRLH3/33         complete   \n",
      "1  TRLH3/33         complete   \n",
      "2  TRLH3/33         complete   \n",
      "3  TRLH3/33         complete   \n",
      "4  TRLH3/33         complete   \n",
      "\n",
      "                                                 url  league  year   split  \\\n",
      "0  http://matchhistory.na.leagueoflegends.com/en/...  EU LCS  2014  Spring   \n",
      "1  http://matchhistory.na.leagueoflegends.com/en/...  EU LCS  2014  Spring   \n",
      "2  http://matchhistory.na.leagueoflegends.com/en/...  EU LCS  2014  Spring   \n",
      "3  http://matchhistory.na.leagueoflegends.com/en/...  EU LCS  2014  Spring   \n",
      "4  http://matchhistory.na.leagueoflegends.com/en/...  EU LCS  2014  Spring   \n",
      "\n",
      "   playoffs                 date  game  patch  ...  opp_csat25 golddiffat25  \\\n",
      "0         0  2014-01-14 17:52:02   1.0   3.15  ...       206.0         76.0   \n",
      "1         0  2014-01-14 17:52:02   1.0   3.15  ...       140.0       -888.0   \n",
      "2         0  2014-01-14 17:52:02   1.0   3.15  ...       225.0        621.0   \n",
      "3         0  2014-01-14 17:52:02   1.0   3.15  ...       161.0       3265.0   \n",
      "4         0  2014-01-14 17:52:02   1.0   3.15  ...        28.0       1780.0   \n",
      "\n",
      "  xpdiffat25 csdiffat25 killsat25 assistsat25 deathsat25 opp_killsat25  \\\n",
      "0     -512.0      -18.0       3.0         4.0        0.0           1.0   \n",
      "1      351.0      -42.0       0.0         5.0        3.0           2.0   \n",
      "2      733.0        8.0       1.0         5.0        1.0           1.0   \n",
      "3     1950.0       50.0       6.0         2.0        0.0           0.0   \n",
      "4     2397.0      -19.0       0.0         7.0        0.0           0.0   \n",
      "\n",
      "  opp_assistsat25 opp_deathsat25  \n",
      "0             2.0            2.0  \n",
      "1             1.0            1.0  \n",
      "2             2.0            0.0  \n",
      "3             0.0            4.0  \n",
      "4             1.0            3.0  \n",
      "\n",
      "[5 rows x 161 columns]\n",
      "Colonnes après nettoyage : ['gameid', 'datacompleteness', 'url', 'league', 'year', 'split', 'playoffs', 'date', 'game', 'patch', 'participantid', 'side', 'position', 'playername', 'playerid', 'teamname', 'teamid', 'champion', 'ban1', 'ban2', 'ban3', 'ban4', 'ban5', 'pick1', 'pick2', 'pick3', 'pick4', 'pick5', 'gamelength', 'result', 'kills', 'deaths', 'assists', 'teamkills', 'teamdeaths', 'doublekills', 'triplekills', 'quadrakills', 'pentakills', 'firstblood', 'firstbloodkill', 'firstbloodassist', 'firstbloodvictim', 'team kpm', 'ckpm', 'firstdragon', 'dragons', 'opp_dragons', 'elementaldrakes', 'opp_elementaldrakes', 'infernals', 'mountains', 'clouds', 'oceans', 'chemtechs', 'hextechs', 'dragons (type unknown)', 'elders', 'opp_elders', 'firstherald', 'heralds', 'opp_heralds', 'void_grubs', 'opp_void_grubs', 'firstbaron', 'barons', 'opp_barons', 'firsttower', 'towers', 'opp_towers', 'firstmidtower', 'firsttothreetowers', 'turretplates', 'opp_turretplates', 'inhibitors', 'opp_inhibitors', 'damagetochampions', 'dpm', 'damageshare', 'damagetakenperminute', 'damagemitigatedperminute', 'wardsplaced', 'wpm', 'wardskilled', 'wcpm', 'controlwardsbought', 'visionscore', 'vspm', 'totalgold', 'earnedgold', 'earned gpm', 'earnedgoldshare', 'goldspent', 'gspd', 'gpr', 'total cs', 'minionkills', 'monsterkills', 'monsterkillsownjungle', 'monsterkillsenemyjungle', 'cspm', 'goldat10', 'xpat10', 'csat10', 'opp_goldat10', 'opp_xpat10', 'opp_csat10', 'golddiffat10', 'xpdiffat10', 'csdiffat10', 'killsat10', 'assistsat10', 'deathsat10', 'opp_killsat10', 'opp_assistsat10', 'opp_deathsat10', 'goldat15', 'xpat15', 'csat15', 'opp_goldat15', 'opp_xpat15', 'opp_csat15', 'golddiffat15', 'xpdiffat15', 'csdiffat15', 'killsat15', 'assistsat15', 'deathsat15', 'opp_killsat15', 'opp_assistsat15', 'opp_deathsat15', 'goldat20', 'xpat20', 'csat20', 'opp_goldat20', 'opp_xpat20', 'opp_csat20', 'golddiffat20', 'xpdiffat20', 'csdiffat20', 'killsat20', 'assistsat20', 'deathsat20', 'opp_killsat20', 'opp_assistsat20', 'opp_deathsat20', 'goldat25', 'xpat25', 'csat25', 'opp_goldat25', 'opp_xpat25', 'opp_csat25', 'golddiffat25', 'xpdiffat25', 'csdiffat25', 'killsat25', 'assistsat25', 'deathsat25', 'opp_killsat25', 'opp_assistsat25', 'opp_deathsat25']\n"
     ]
    },
    {
     "name": "stderr",
     "output_type": "stream",
     "text": [
      "Transformation des matchs: 100%|██████████| 87544/87544 [31:38<00:00, 46.11it/s] \n"
     ]
    },
    {
     "name": "stdout",
     "output_type": "stream",
     "text": [
      "Colonnes du DataFrame final : ['gameid', 'Blue_team_teamname', 'Blue_team_date', 'Blue_team_result', 'Blue_team_kills', 'Blue_team_deaths', 'Blue_team_assists', 'Blue_team_teamkills', 'Blue_team_teamdeaths', 'Blue_team_doublekills', 'Blue_team_triplekills', 'Blue_team_quadrakills', 'Blue_team_pentakills', 'Blue_team_gamelength', 'Blue_team_dragons', 'Blue_team_barons', 'Blue_team_goldat15', 'Blue_team_towers', 'Blue_team_csat10', 'Blue_team_goldat10', 'Blue_team_xpat10', 'Blue_team_opp_goldat10', 'Blue_team_opp_xpat10', 'Blue_team_opp_csat10', 'Blue_team_golddiffat10', 'Blue_team_xpdiffat10', 'Blue_team_csdiffat10', 'Blue_team_killsat10', 'Blue_team_assistsat10', 'Blue_team_deathsat10', 'Blue_team_side', 'Red_team_teamname', 'Red_team_date', 'Red_team_result', 'Red_team_kills', 'Red_team_deaths', 'Red_team_assists', 'Red_team_teamkills', 'Red_team_teamdeaths', 'Red_team_doublekills', 'Red_team_triplekills', 'Red_team_quadrakills', 'Red_team_pentakills', 'Red_team_gamelength', 'Red_team_dragons', 'Red_team_barons', 'Red_team_goldat15', 'Red_team_towers', 'Red_team_csat10', 'Red_team_goldat10', 'Red_team_xpat10', 'Red_team_opp_goldat10', 'Red_team_opp_xpat10', 'Red_team_opp_csat10', 'Red_team_golddiffat10', 'Red_team_xpdiffat10', 'Red_team_csdiffat10', 'Red_team_killsat10', 'Red_team_assistsat10', 'Red_team_deathsat10', 'Red_team_side', 'Blue_top_teamname', 'Blue_top_date', 'Blue_top_result', 'Blue_top_kills', 'Blue_top_deaths', 'Blue_top_assists', 'Blue_top_teamkills', 'Blue_top_teamdeaths', 'Blue_top_doublekills', 'Blue_top_triplekills', 'Blue_top_quadrakills', 'Blue_top_pentakills', 'Blue_top_gamelength', 'Blue_top_dragons', 'Blue_top_barons', 'Blue_top_goldat15', 'Blue_top_towers', 'Blue_top_csat10', 'Blue_top_goldat10', 'Blue_top_xpat10', 'Blue_top_opp_goldat10', 'Blue_top_opp_xpat10', 'Blue_top_opp_csat10', 'Blue_top_golddiffat10', 'Blue_top_xpdiffat10', 'Blue_top_csdiffat10', 'Blue_top_killsat10', 'Blue_top_assistsat10', 'Blue_top_deathsat10', 'Blue_top_side', 'Blue_jng_teamname', 'Blue_jng_date', 'Blue_jng_result', 'Blue_jng_kills', 'Blue_jng_deaths', 'Blue_jng_assists', 'Blue_jng_teamkills', 'Blue_jng_teamdeaths', 'Blue_jng_doublekills', 'Blue_jng_triplekills', 'Blue_jng_quadrakills', 'Blue_jng_pentakills', 'Blue_jng_gamelength', 'Blue_jng_dragons', 'Blue_jng_barons', 'Blue_jng_goldat15', 'Blue_jng_towers', 'Blue_jng_csat10', 'Blue_jng_goldat10', 'Blue_jng_xpat10', 'Blue_jng_opp_goldat10', 'Blue_jng_opp_xpat10', 'Blue_jng_opp_csat10', 'Blue_jng_golddiffat10', 'Blue_jng_xpdiffat10', 'Blue_jng_csdiffat10', 'Blue_jng_killsat10', 'Blue_jng_assistsat10', 'Blue_jng_deathsat10', 'Blue_jng_side', 'Blue_mid_teamname', 'Blue_mid_date', 'Blue_mid_result', 'Blue_mid_kills', 'Blue_mid_deaths', 'Blue_mid_assists', 'Blue_mid_teamkills', 'Blue_mid_teamdeaths', 'Blue_mid_doublekills', 'Blue_mid_triplekills', 'Blue_mid_quadrakills', 'Blue_mid_pentakills', 'Blue_mid_gamelength', 'Blue_mid_dragons', 'Blue_mid_barons', 'Blue_mid_goldat15', 'Blue_mid_towers', 'Blue_mid_csat10', 'Blue_mid_goldat10', 'Blue_mid_xpat10', 'Blue_mid_opp_goldat10', 'Blue_mid_opp_xpat10', 'Blue_mid_opp_csat10', 'Blue_mid_golddiffat10', 'Blue_mid_xpdiffat10', 'Blue_mid_csdiffat10', 'Blue_mid_killsat10', 'Blue_mid_assistsat10', 'Blue_mid_deathsat10', 'Blue_mid_side', 'Blue_bot_teamname', 'Blue_bot_date', 'Blue_bot_result', 'Blue_bot_kills', 'Blue_bot_deaths', 'Blue_bot_assists', 'Blue_bot_teamkills', 'Blue_bot_teamdeaths', 'Blue_bot_doublekills', 'Blue_bot_triplekills', 'Blue_bot_quadrakills', 'Blue_bot_pentakills', 'Blue_bot_gamelength', 'Blue_bot_dragons', 'Blue_bot_barons', 'Blue_bot_goldat15', 'Blue_bot_towers', 'Blue_bot_csat10', 'Blue_bot_goldat10', 'Blue_bot_xpat10', 'Blue_bot_opp_goldat10', 'Blue_bot_opp_xpat10', 'Blue_bot_opp_csat10', 'Blue_bot_golddiffat10', 'Blue_bot_xpdiffat10', 'Blue_bot_csdiffat10', 'Blue_bot_killsat10', 'Blue_bot_assistsat10', 'Blue_bot_deathsat10', 'Blue_bot_side', 'Blue_sup_teamname', 'Blue_sup_date', 'Blue_sup_result', 'Blue_sup_kills', 'Blue_sup_deaths', 'Blue_sup_assists', 'Blue_sup_teamkills', 'Blue_sup_teamdeaths', 'Blue_sup_doublekills', 'Blue_sup_triplekills', 'Blue_sup_quadrakills', 'Blue_sup_pentakills', 'Blue_sup_gamelength', 'Blue_sup_dragons', 'Blue_sup_barons', 'Blue_sup_goldat15', 'Blue_sup_towers', 'Blue_sup_csat10', 'Blue_sup_goldat10', 'Blue_sup_xpat10', 'Blue_sup_opp_goldat10', 'Blue_sup_opp_xpat10', 'Blue_sup_opp_csat10', 'Blue_sup_golddiffat10', 'Blue_sup_xpdiffat10', 'Blue_sup_csdiffat10', 'Blue_sup_killsat10', 'Blue_sup_assistsat10', 'Blue_sup_deathsat10', 'Blue_sup_side', 'Red_top_teamname', 'Red_top_date', 'Red_top_result', 'Red_top_kills', 'Red_top_deaths', 'Red_top_assists', 'Red_top_teamkills', 'Red_top_teamdeaths', 'Red_top_doublekills', 'Red_top_triplekills', 'Red_top_quadrakills', 'Red_top_pentakills', 'Red_top_gamelength', 'Red_top_dragons', 'Red_top_barons', 'Red_top_goldat15', 'Red_top_towers', 'Red_top_csat10', 'Red_top_goldat10', 'Red_top_xpat10', 'Red_top_opp_goldat10', 'Red_top_opp_xpat10', 'Red_top_opp_csat10', 'Red_top_golddiffat10', 'Red_top_xpdiffat10', 'Red_top_csdiffat10', 'Red_top_killsat10', 'Red_top_assistsat10', 'Red_top_deathsat10', 'Red_top_side', 'Red_jng_teamname', 'Red_jng_date', 'Red_jng_result', 'Red_jng_kills', 'Red_jng_deaths', 'Red_jng_assists', 'Red_jng_teamkills', 'Red_jng_teamdeaths', 'Red_jng_doublekills', 'Red_jng_triplekills', 'Red_jng_quadrakills', 'Red_jng_pentakills', 'Red_jng_gamelength', 'Red_jng_dragons', 'Red_jng_barons', 'Red_jng_goldat15', 'Red_jng_towers', 'Red_jng_csat10', 'Red_jng_goldat10', 'Red_jng_xpat10', 'Red_jng_opp_goldat10', 'Red_jng_opp_xpat10', 'Red_jng_opp_csat10', 'Red_jng_golddiffat10', 'Red_jng_xpdiffat10', 'Red_jng_csdiffat10', 'Red_jng_killsat10', 'Red_jng_assistsat10', 'Red_jng_deathsat10', 'Red_jng_side', 'Red_mid_teamname', 'Red_mid_date', 'Red_mid_result', 'Red_mid_kills', 'Red_mid_deaths', 'Red_mid_assists', 'Red_mid_teamkills', 'Red_mid_teamdeaths', 'Red_mid_doublekills', 'Red_mid_triplekills', 'Red_mid_quadrakills', 'Red_mid_pentakills', 'Red_mid_gamelength', 'Red_mid_dragons', 'Red_mid_barons', 'Red_mid_goldat15', 'Red_mid_towers', 'Red_mid_csat10', 'Red_mid_goldat10', 'Red_mid_xpat10', 'Red_mid_opp_goldat10', 'Red_mid_opp_xpat10', 'Red_mid_opp_csat10', 'Red_mid_golddiffat10', 'Red_mid_xpdiffat10', 'Red_mid_csdiffat10', 'Red_mid_killsat10', 'Red_mid_assistsat10', 'Red_mid_deathsat10', 'Red_mid_side', 'Red_bot_teamname', 'Red_bot_date', 'Red_bot_result', 'Red_bot_kills', 'Red_bot_deaths', 'Red_bot_assists', 'Red_bot_teamkills', 'Red_bot_teamdeaths', 'Red_bot_doublekills', 'Red_bot_triplekills', 'Red_bot_quadrakills', 'Red_bot_pentakills', 'Red_bot_gamelength', 'Red_bot_dragons', 'Red_bot_barons', 'Red_bot_goldat15', 'Red_bot_towers', 'Red_bot_csat10', 'Red_bot_goldat10', 'Red_bot_xpat10', 'Red_bot_opp_goldat10', 'Red_bot_opp_xpat10', 'Red_bot_opp_csat10', 'Red_bot_golddiffat10', 'Red_bot_xpdiffat10', 'Red_bot_csdiffat10', 'Red_bot_killsat10', 'Red_bot_assistsat10', 'Red_bot_deathsat10', 'Red_bot_side', 'Red_sup_teamname', 'Red_sup_date', 'Red_sup_result', 'Red_sup_kills', 'Red_sup_deaths', 'Red_sup_assists', 'Red_sup_teamkills', 'Red_sup_teamdeaths', 'Red_sup_doublekills', 'Red_sup_triplekills', 'Red_sup_quadrakills', 'Red_sup_pentakills', 'Red_sup_gamelength', 'Red_sup_dragons', 'Red_sup_barons', 'Red_sup_goldat15', 'Red_sup_towers', 'Red_sup_csat10', 'Red_sup_goldat10', 'Red_sup_xpat10', 'Red_sup_opp_goldat10', 'Red_sup_opp_xpat10', 'Red_sup_opp_csat10', 'Red_sup_golddiffat10', 'Red_sup_xpdiffat10', 'Red_sup_csdiffat10', 'Red_sup_killsat10', 'Red_sup_assistsat10', 'Red_sup_deathsat10', 'Red_sup_side']\n",
      "Le CSV nettoyé a été créé avec succès!\n"
     ]
    }
   ],
   "source": [
    "preprocess_data(input_folder=\"../data/\", output_file=\"../data/matches_clean.csv\")"
   ]
  },
  {
   "cell_type": "markdown",
   "metadata": {},
   "source": [
    "# Création des features"
   ]
  },
  {
   "cell_type": "code",
   "execution_count": null,
   "metadata": {},
   "outputs": [],
   "source": [
    "# Charger les données nettoyées\n",
    "df = pd.read_csv(\"../data/matches_clean.csv\")\n",
    "# Trier le dataset par date pour s'assurer que les calculs de performance récente sont corrects\n",
    "df['Blue_team_date'] = pd.to_datetime(df['Blue_team_date'], format='%Y-%m-%d %H:%M:%S')\n",
    "\n",
    "df.sort_values(by='Blue_team_date', inplace=True)\n",
    "\n",
    "confrontations = defaultdict(list)\n",
    "team_matches = defaultdict(list)\n",
    "df = df.dropna(subset=['Blue_team_teamname', 'Red_team_teamname'])\n",
    "\n",
    "for _, row in df.iterrows():\n",
    "    team_matches[row['Blue_team_teamname']].append(row)\n",
    "    team_matches[row['Red_team_teamname']].append(row)\n",
    "    key = tuple(sorted([row['Blue_team_teamname'], row['Red_team_teamname']]))\n",
    "    confrontations[key].append(row)\n",
    "\n",
    "\n",
    "# Fonction pour obtenir les 5 derniers matchs entre deux équipes\n",
    "def get_last_n_matches_from_dict(team1, team2, current_gameid = None, n_matches=5):\n",
    "    key = tuple(sorted([team1, team2]))\n",
    "    matches = confrontations.get(key, [])\n",
    "\n",
    "    # Trouver l'indice du match courant dans la liste\n",
    "    if current_gameid is None:\n",
    "        # Si le gameid est None, on ne peut pas trouver l'indice\n",
    "        return matches[-n_matches:] if len(matches) >= n_matches else matches\n",
    "    \n",
    "    index = next((i for i, match in enumerate(matches) if match['gameid'] == current_gameid), None)\n",
    "    if index is None:\n",
    "        # Le match n’est pas encore dans la liste → on est en train de le traiter\n",
    "        # Donc on peut prendre directement les 5 derniers avant la fin de la liste\n",
    "        return matches[-n_matches:]\n",
    "    \n",
    "    # Retourne les 5 matchs avant ce match\n",
    "    return matches[max(0, index - n_matches):index]\n",
    "\n",
    "def get_last_5_matches(team_name, current_gameid=None,n_matches=5):\n",
    "    # Vérifier si l'équipe existe dans le dictionnaire\n",
    "    if team_name not in team_matches:\n",
    "        return np.nan\n",
    "    # Trouver l'indice du match courant dans la liste\n",
    "    if current_gameid is None:\n",
    "        # Si le gameid est None, on ne peut pas trouver l'indice\n",
    "        return team_matches[team_name][-n_matches:] if len(team_matches[team_name]) >= n_matches else team_matches[team_name]\n",
    "    index = next((i for i, match in enumerate(team_matches[team_name]) if match['gameid'] == current_gameid), None)\n",
    "    if index is None:\n",
    "        # Le match n’est pas encore dans la liste → on est en train de le traiter\n",
    "        # Donc on peut prendre directement les 5 derniers avant la fin de la liste\n",
    "        return team_matches[team_name][-n_matches:]\n",
    "    # Retourne les 5 matchs avant ce match        \n",
    "    return team_matches[team_name][max(0, index - n_matches):index]\n",
    "\n",
    "# Calculer le taux de victoire sur les 5 derniers matchs pour chaque équipe\n",
    "def get_last_5_matches_1v1_win_rate(team_1, team_2, current_gameid):\n",
    "    last_5_matches = get_last_n_matches_from_dict(team_1, team_2, current_gameid, n_matches=8)\n",
    "    if len(last_5_matches) == 0:\n",
    "        return np.nan\n",
    "\n",
    "    team_1_wins = 0\n",
    "    for match in last_5_matches:\n",
    "        if match['Blue_team_teamname'] == team_1:\n",
    "            team_1_wins += match['Blue_team_result']\n",
    "        else:\n",
    "            team_1_wins += match['Red_team_result']\n",
    "    return team_1_wins / len(last_5_matches)\n",
    "\n",
    "# Calculer le ratio K/D sur les 5 derniers matchs pour chaque équipe\n",
    "def get_last_5_matches_1v1_kd_ratio(team_1, team_2, current_gameid):\n",
    "    last_5_matches = get_last_n_matches_from_dict(team_1, team_2, current_gameid,n_matches=8)\n",
    "    if len(last_5_matches) == 0:\n",
    "        return np.nan\n",
    "    team_1_kills = 0\n",
    "    team_1_deaths = 0\n",
    "    for match in last_5_matches:\n",
    "        if match['Blue_team_teamname'] == team_1:\n",
    "            team_1_kills += match['Blue_team_kills']\n",
    "            team_1_deaths += match['Blue_team_deaths']\n",
    "        else:\n",
    "            team_1_kills += match['Red_team_kills']\n",
    "            team_1_deaths += match['Red_team_deaths']\n",
    "    if team_1_deaths == 0:\n",
    "        return team_1_kills\n",
    "    return team_1_kills / team_1_deaths\n",
    "\n",
    "# Calculer le nombre moyen de dragons tués sur les 5 derniers matchs pour chaque équipe\n",
    "def get_last_5_matches_1v1_dragons(team_1, team_2, current_gameid):\n",
    "    last_5_matches = get_last_n_matches_from_dict(team_1, team_2, current_gameid, n_matches=8)\n",
    "    if len(last_5_matches) == 0:\n",
    "        return np.nan\n",
    "    team_1_dragons = 0\n",
    "    for match in last_5_matches:\n",
    "        if match['Blue_team_teamname'] == team_1:\n",
    "            team_1_dragons += match['Blue_team_dragons']\n",
    "        else:\n",
    "            team_1_dragons += match['Red_team_dragons']\n",
    "    return team_1_dragons\n",
    "\n",
    "# Calculer le nombre moyen de barons tués sur les 5 derniers matchs pour chaque équipe\n",
    "def get_last_5_matches_1v1_barons(team_1, team_2, current_gameid):\n",
    "    last_5_matches = get_last_n_matches_from_dict(team_1, team_2, current_gameid, n_matches=8)\n",
    "    if len(last_5_matches) == 0:\n",
    "        return np.nan\n",
    "    team_1_barons = 0\n",
    "    for match in last_5_matches:\n",
    "        if match['Blue_team_teamname'] == team_1:\n",
    "            team_1_barons += match['Blue_team_barons']\n",
    "        else:\n",
    "            team_1_barons += match['Red_team_barons']\n",
    "    return team_1_barons\n",
    "\n",
    "\n",
    "# def get_last_n_matches_opponent_winrate(team_1, current_gameid=None, n_matches=5, n_opponent_matches=10):\n",
    "#     matches = get_last_5_matches(team_1, current_gameid, n_matches=n_matches)\n",
    "#     if not matches:\n",
    "#         return np.nan\n",
    "\n",
    "#     total_winrate = 0\n",
    "#     valid_opponent_count = 0\n",
    "\n",
    "#     for match in matches:\n",
    "#         # Identifier l’adversaire\n",
    "#         if match['Blue_team_teamname'] == team_1:\n",
    "#             opponent = match['Red_team_teamname']\n",
    "#         else:\n",
    "#             opponent = match['Blue_team_teamname']\n",
    "\n",
    "#         # Récupérer les matchs récents de l’adversaire\n",
    "#         opp_matches = get_last_5_matches(opponent, current_gameid, n_matches=n_opponent_matches)\n",
    "#         if not opp_matches:\n",
    "#             continue\n",
    "\n",
    "#         opp_wins = 0\n",
    "#         for m in opp_matches:\n",
    "#             if m['Blue_team_teamname'] == opponent:\n",
    "#                 opp_wins += m['Blue_team_result']\n",
    "#             else:\n",
    "#                 opp_wins += m['Red_team_result']\n",
    "        \n",
    "#         winrate = opp_wins / len(opp_matches)\n",
    "#         total_winrate += winrate\n",
    "#         valid_opponent_count += 1\n",
    "\n",
    "#     if valid_opponent_count == 0:\n",
    "#         return np.nan\n",
    "\n",
    "#     return total_winrate / valid_opponent_count"
   ]
  },
  {
   "cell_type": "code",
   "execution_count": null,
   "metadata": {},
   "outputs": [
    {
     "name": "stdout",
     "output_type": "stream",
     "text": [
      "Taux de victoire sur les 5 derniers matchs calculé.\n"
     ]
    },
    {
     "name": "stderr",
     "output_type": "stream",
     "text": [
      "C:\\Users\\Jhinnz\\AppData\\Local\\Temp\\ipykernel_5116\\645095378.py:8: DeprecationWarning: DataFrameGroupBy.apply operated on the grouping columns. This behavior is deprecated, and in a future version of pandas the grouping columns will be excluded from the operation. Either pass `include_groups=False` to exclude the groupings or explicitly select the grouping columns after groupby to silence this warning.\n",
      "  df['blue_team_recent_kd_ratio'] = df.groupby('Blue_team_teamname').apply(lambda x: (x['Blue_team_kills'] / (x['Blue_team_deaths'] + 1e-6)).rolling(window=15, min_periods=1).mean()).reset_index(level=0, drop=True)\n",
      "C:\\Users\\Jhinnz\\AppData\\Local\\Temp\\ipykernel_5116\\645095378.py:9: DeprecationWarning: DataFrameGroupBy.apply operated on the grouping columns. This behavior is deprecated, and in a future version of pandas the grouping columns will be excluded from the operation. Either pass `include_groups=False` to exclude the groupings or explicitly select the grouping columns after groupby to silence this warning.\n",
      "  df['red_team_recent_kd_ratio'] = df.groupby('Red_team_teamname').apply(lambda x: (x['Red_team_kills'] / (x['Red_team_deaths'] + 1e-6)).rolling(window=15, min_periods=1).mean()).reset_index(level=0, drop=True)\n"
     ]
    },
    {
     "name": "stdout",
     "output_type": "stream",
     "text": [
      "Ratio K/D sur les 5 derniers matchs calculé.\n",
      "Nombre moyen de dragons tués sur les 5 derniers matchs calculé.\n",
      "Nombre moyen de barons tués sur les 5 derniers matchs calculé.\n",
      "Taux de victoire sur les 3 derniers matchs calculé.\n"
     ]
    },
    {
     "name": "stderr",
     "output_type": "stream",
     "text": [
      "C:\\Users\\Jhinnz\\AppData\\Local\\Temp\\ipykernel_5116\\645095378.py:31: DeprecationWarning: DataFrameGroupBy.apply operated on the grouping columns. This behavior is deprecated, and in a future version of pandas the grouping columns will be excluded from the operation. Either pass `include_groups=False` to exclude the groupings or explicitly select the grouping columns after groupby to silence this warning.\n",
      "  df['blue_team_last3_kd_ratio'] = df.groupby('Blue_team_teamname').apply(lambda x: (x['Blue_team_kills'] / (x['Blue_team_deaths'] + 1e-6)).rolling(window=3, min_periods=1).mean()).reset_index(level=0, drop=True)\n",
      "C:\\Users\\Jhinnz\\AppData\\Local\\Temp\\ipykernel_5116\\645095378.py:32: DeprecationWarning: DataFrameGroupBy.apply operated on the grouping columns. This behavior is deprecated, and in a future version of pandas the grouping columns will be excluded from the operation. Either pass `include_groups=False` to exclude the groupings or explicitly select the grouping columns after groupby to silence this warning.\n",
      "  df['red_team_last3_kd_ratio'] = df.groupby('Red_team_teamname').apply(lambda x: (x['Red_team_kills'] / (x['Red_team_deaths'] + 1e-6)).rolling(window=3, min_periods=1).mean()).reset_index(level=0, drop=True)\n"
     ]
    },
    {
     "name": "stdout",
     "output_type": "stream",
     "text": [
      "Ratio K/D sur les 3 derniers matchs calculé.\n"
     ]
    },
    {
     "name": "stderr",
     "output_type": "stream",
     "text": [
      "C:\\Users\\Jhinnz\\AppData\\Local\\Temp\\ipykernel_5116\\645095378.py:38: DeprecationWarning: DataFrameGroupBy.apply operated on the grouping columns. This behavior is deprecated, and in a future version of pandas the grouping columns will be excluded from the operation. Either pass `include_groups=False` to exclude the groupings or explicitly select the grouping columns after groupby to silence this warning.\n",
      "  df['blue_team_kd_ratio_std_20'] = df.groupby('Blue_team_teamname').apply(lambda x: (x['Blue_team_kills'] / (x['Blue_team_deaths'] + 1e-6)).rolling(window=20, min_periods=1).std()).reset_index(level=0, drop=True)\n",
      "C:\\Users\\Jhinnz\\AppData\\Local\\Temp\\ipykernel_5116\\645095378.py:39: DeprecationWarning: DataFrameGroupBy.apply operated on the grouping columns. This behavior is deprecated, and in a future version of pandas the grouping columns will be excluded from the operation. Either pass `include_groups=False` to exclude the groupings or explicitly select the grouping columns after groupby to silence this warning.\n",
      "  df['red_team_kd_ratio_std_20'] = df.groupby('Red_team_teamname').apply(lambda x: (x['Red_team_kills'] / (x['Red_team_deaths'] + 1e-6)).rolling(window=20, min_periods=1).std()).reset_index(level=0, drop=True)\n"
     ]
    },
    {
     "name": "stdout",
     "output_type": "stream",
     "text": [
      "Ecart-type des kills, deaths, dragons et barons, kd sur les 20 derniers matchs calculé.\n",
      "Taux de victoire sur les 5 derniers matchs calculé. (1v1)\n",
      "Ratio K/D sur les 5 derniers matchs calculé. (1v1)\n",
      "Nombre moyen de dragons tués sur les 5 derniers matchs calculé. (1v1)\n",
      "Nombre moyen de barons tués sur les 5 derniers matchs calculé. (1v1)\n"
     ]
    }
   ],
   "source": [
    "# Calculer le taux de victoire sur les 5 derniers matchs pour chaque équipe\n",
    "df['blue_team_recent_win_rate'] = df.groupby('Blue_team_teamname')['Blue_team_result'].transform(lambda x: x.rolling(window=15, min_periods=1).mean())\n",
    "df['red_team_recent_win_rate'] = df.groupby('Red_team_teamname')['Red_team_result'].transform(lambda x: x.rolling(window=15, min_periods=1).mean())\n",
    "\n",
    "print(\"Taux de victoire sur les 5 derniers matchs calculé.\")\n",
    "\n",
    "# Calculer le ratio K/D sur les 5 derniers matchs pour chaque équipe\n",
    "df['blue_team_recent_kd_ratio'] = df.groupby('Blue_team_teamname').apply(lambda x: (x['Blue_team_kills'] / (x['Blue_team_deaths'] + 1e-6)).rolling(window=15, min_periods=1).mean()).reset_index(level=0, drop=True)\n",
    "df['red_team_recent_kd_ratio'] = df.groupby('Red_team_teamname').apply(lambda x: (x['Red_team_kills'] / (x['Red_team_deaths'] + 1e-6)).rolling(window=15, min_periods=1).mean()).reset_index(level=0, drop=True)\n",
    "\n",
    "print(\"Ratio K/D sur les 5 derniers matchs calculé.\")\n",
    "\n",
    "# Calculer le nombre moyen de dragons tués sur les 5 derniers matchs pour chaque équipe\n",
    "df['blue_team_recent_dragons'] = df.groupby('Blue_team_teamname')['Blue_team_dragons'].transform(lambda x: x.rolling(window=20, min_periods=1).mean())\n",
    "df['red_team_recent_dragons'] = df.groupby('Red_team_teamname')['Red_team_dragons'].transform(lambda x: x.rolling(window=20, min_periods=1).mean())\n",
    "\n",
    "print(\"Nombre moyen de dragons tués sur les 5 derniers matchs calculé.\")\n",
    "\n",
    "# Calculer le nombre moyen de barons tués sur les 5 derniers matchs pour chaque équipe\n",
    "df['blue_team_recent_barons'] = df.groupby('Blue_team_teamname')['Blue_team_barons'].transform(lambda x: x.rolling(window=20, min_periods=1).mean())\n",
    "df['red_team_recent_barons'] = df.groupby('Red_team_teamname')['Red_team_barons'].transform(lambda x: x.rolling(window=20, min_periods=1).mean())\n",
    "\n",
    "print(\"Nombre moyen de barons tués sur les 5 derniers matchs calculé.\")\n",
    "\n",
    "df['blue_team_last3_win_rate'] = df.groupby('Blue_team_teamname')['Blue_team_result'].transform(lambda x: x.rolling(window=3, min_periods=1).mean())\n",
    "df['red_team_last3_win_rate'] = df.groupby('Red_team_teamname')['Red_team_result'].transform(lambda x: x.rolling(window=3, min_periods=1).mean())\n",
    "\n",
    "print(\"Taux de victoire sur les 3 derniers matchs calculé.\")\n",
    "\n",
    "# Calculer le ratio K/D sur les 3 derniers matchs pour chaque équipe\n",
    "df['blue_team_last3_kd_ratio'] = df.groupby('Blue_team_teamname').apply(lambda x: (x['Blue_team_kills'] / (x['Blue_team_deaths'] + 1e-6)).rolling(window=3, min_periods=1).mean()).reset_index(level=0, drop=True)\n",
    "df['red_team_last3_kd_ratio'] = df.groupby('Red_team_teamname').apply(lambda x: (x['Red_team_kills'] / (x['Red_team_deaths'] + 1e-6)).rolling(window=3, min_periods=1).mean()).reset_index(level=0, drop=True)\n",
    "\n",
    "print(\"Ratio K/D sur les 3 derniers matchs calculé.\")\n",
    "\n",
    "# Ecart-type des kills, deaths, dragons et barons sur les 20 derniers matchs\n",
    "\n",
    "df['blue_team_kd_ratio_std_20'] = df.groupby('Blue_team_teamname').apply(lambda x: (x['Blue_team_kills'] / (x['Blue_team_deaths'] + 1e-6)).rolling(window=20, min_periods=1).std()).reset_index(level=0, drop=True)\n",
    "df['red_team_kd_ratio_std_20'] = df.groupby('Red_team_teamname').apply(lambda x: (x['Red_team_kills'] / (x['Red_team_deaths'] + 1e-6)).rolling(window=20, min_periods=1).std()).reset_index(level=0, drop=True)\n",
    "\n",
    "df['blue_team_kills_std_20'] = df.groupby('Blue_team_teamname')['Blue_team_kills'].transform(lambda x: x.rolling(window=20, min_periods=1).std())\n",
    "df['red_team_kills_std_20'] = df.groupby('Red_team_teamname')['Red_team_kills'].transform(lambda x: x.rolling(window=20, min_periods=1).std())\n",
    "\n",
    "df['blue_team_deaths_std_20'] = df.groupby('Blue_team_teamname')['Blue_team_deaths'].transform(lambda x: x.rolling(window=20, min_periods=1).std())\n",
    "df['red_team_deaths_std_20'] = df.groupby('Red_team_teamname')['Red_team_deaths'].transform(lambda x: x.rolling(window=20, min_periods=1).std())\n",
    "\n",
    "df['blue_team_dragons_std_20'] = df.groupby('Blue_team_teamname')['Blue_team_dragons'].transform(lambda x: x.rolling(window=20, min_periods=1).std())\n",
    "df['red_team_dragons_std_20'] = df.groupby('Red_team_teamname')['Red_team_dragons'].transform(lambda x: x.rolling(window=20, min_periods=1).std())\n",
    "\n",
    "df['blue_team_barons_std_20'] = df.groupby('Blue_team_teamname')['Blue_team_barons'].transform(lambda x: x.rolling(window=20, min_periods=1).std())\n",
    "df['red_team_barons_std_20'] = df.groupby('Red_team_teamname')['Red_team_barons'].transform(lambda x: x.rolling(window=20, min_periods=1).std())\n",
    "\n",
    "print(\"Ecart-type des kills, deaths, dragons et barons, kd sur les 20 derniers matchs calculé.\")\n",
    "\n",
    "# df['blue_team_opponent_avg_winrate_last10'] = df.apply(lambda row: get_last_n_matches_opponent_winrate(row['Blue_team_teamname'], row['gameid'], n_matches=10), axis=1)\n",
    "# df['red_team_opponent_avg_winrate_last10'] = df.apply(lambda row: get_last_n_matches_opponent_winrate(row['Red_team_teamname'], row['gameid'], n_matches=10), axis=1)\n",
    "\n",
    "# print(\"Taux de victoire moyen de l'adversaire sur les 10 derniers matchs calculé.\")\n",
    "\n",
    "# Utiliser des transformations vectorisées pour calculer les caractéristiques\n",
    "df['blue_team_recent_1v1_win_rate'] = df.apply(lambda row: get_last_5_matches_1v1_win_rate(row['Blue_team_teamname'], row['Red_team_teamname'], row['gameid']), axis=1)\n",
    "df['red_team_recent_1v1_win_rate'] = df.apply(lambda row: get_last_5_matches_1v1_win_rate(row['Red_team_teamname'], row['Blue_team_teamname'], row['gameid']), axis=1)\n",
    "\n",
    "print(\"Taux de victoire sur les 5 derniers matchs calculé. (1v1)\")\n",
    "\n",
    "df['blue_team_recent_1v1_kd_ratio'] = df.apply(lambda row: get_last_5_matches_1v1_kd_ratio(row['Blue_team_teamname'], row['Red_team_teamname'], row['gameid']), axis=1)\n",
    "df['red_team_recent_1v1_kd_ratio'] = df.apply(lambda row: get_last_5_matches_1v1_kd_ratio(row['Red_team_teamname'], row['Blue_team_teamname'], row['gameid']), axis=1)\n",
    "\n",
    "print(\"Ratio K/D sur les 5 derniers matchs calculé. (1v1)\")\n",
    "\n",
    "df['blue_team_recent_1v1_dragons'] = df.apply(lambda row: get_last_5_matches_1v1_dragons(row['Blue_team_teamname'], row['Red_team_teamname'], row['gameid']), axis=1)\n",
    "df['red_team_recent_1v1_dragons'] = df.apply(lambda row: get_last_5_matches_1v1_dragons(row['Red_team_teamname'], row['Blue_team_teamname'], row['gameid']), axis=1)\n",
    "\n",
    "print(\"Nombre moyen de dragons tués sur les 5 derniers matchs calculé. (1v1)\")\n",
    "\n",
    "df['blue_team_recent_1v1_barons'] = df.apply(lambda row: get_last_5_matches_1v1_barons(row['Blue_team_teamname'], row['Red_team_teamname'], row['gameid']), axis=1)\n",
    "df['red_team_recent_1v1_barons'] = df.apply(lambda row: get_last_5_matches_1v1_barons(row['Red_team_teamname'], row['Blue_team_teamname'], row['gameid']), axis=1)\n",
    "\n",
    "print(\"Nombre moyen de barons tués sur les 5 derniers matchs calculé. (1v1)\")\n",
    "\n",
    "# # Sauvegarder le dataset avec les nouvelles caractéristiques\n",
    "df.to_csv('../data/dataset_with_recent_performance.csv', index=False)"
   ]
  },
  {
   "cell_type": "markdown",
   "metadata": {},
   "source": [
    "# Préparation des données"
   ]
  },
  {
   "cell_type": "code",
   "execution_count": null,
   "metadata": {},
   "outputs": [],
   "source": [
    "df = pd.read_csv(\"../data/dataset_with_recent_performance.csv\")\n",
    "\n",
    "relevant_features = [\n",
    "    'blue_team_recent_win_rate',\n",
    "    'red_team_recent_win_rate',\n",
    "    'blue_team_recent_kd_ratio',\n",
    "    'red_team_recent_kd_ratio',\n",
    "    'blue_team_recent_dragons',\n",
    "    'red_team_recent_dragons',\n",
    "    'blue_team_recent_barons',\n",
    "    'red_team_recent_barons',\n",
    "    'blue_team_last3_win_rate',\n",
    "    'red_team_last3_win_rate',\n",
    "    'blue_team_last3_kd_ratio',\n",
    "    'red_team_last3_kd_ratio',\n",
    "    'blue_team_kd_ratio_std_20',\n",
    "    'red_team_kd_ratio_std_20',\n",
    "    'blue_team_kills_std_20',\n",
    "    'red_team_kills_std_20',\n",
    "    'blue_team_deaths_std_20',\n",
    "    'red_team_deaths_std_20',\n",
    "    'blue_team_dragons_std_20',\n",
    "    'red_team_dragons_std_20',\n",
    "    'blue_team_barons_std_20',\n",
    "    'red_team_barons_std_20',\n",
    "    # 'blue_team_opponent_avg_winrate_last10',  # décommenter si utilisé\n",
    "    # 'red_team_opponent_avg_winrate_last10',   # décommenter si utilisé\n",
    "    'blue_team_recent_1v1_win_rate',\n",
    "    'red_team_recent_1v1_win_rate',\n",
    "    'blue_team_recent_1v1_kd_ratio',\n",
    "    'red_team_recent_1v1_kd_ratio',\n",
    "    'blue_team_recent_1v1_dragons',\n",
    "    'red_team_recent_1v1_dragons',\n",
    "    'blue_team_recent_1v1_barons',\n",
    "    'red_team_recent_1v1_barons'\n",
    "]\n",
    "\n",
    "# Sélectionner les colonnes pertinentes\n",
    "X = df[relevant_features]\n",
    "y = df['Blue_team_result']\n",
    "X = X.fillna(0)  # Remplacer les NaN par 0\n",
    "X = X.replace([np.inf, -np.inf], 0)  # Remplacer les infinis par 0\n",
    "# Normaliser les données\n",
    "scaler = StandardScaler()\n",
    "X = scaler.fit_transform(X)\n",
    "# Diviser les données en ensembles d'entraînement et de test\n",
    "X_train, X_test, y_train, y_test = train_test_split(X, y, test_size=0.3, random_state=42)\n",
    "\n",
    "undersampler = RandomUnderSampler(random_state=42)\n",
    "X_train, y_train = undersampler.fit_resample(X_train, y_train)\n"
   ]
  },
  {
   "cell_type": "markdown",
   "metadata": {},
   "source": [
    "# Entrainement du model"
   ]
  },
  {
   "cell_type": "code",
   "execution_count": null,
   "metadata": {},
   "outputs": [
    {
     "name": "stdout",
     "output_type": "stream",
     "text": [
      "Random Forest Classifier:\n",
      "Accuracy: 0.8499428571428571\n",
      "              precision    recall  f1-score   support\n",
      "\n",
      "           0       0.81      0.88      0.85     12272\n",
      "           1       0.89      0.82      0.85     13978\n",
      "\n",
      "    accuracy                           0.85     26250\n",
      "   macro avg       0.85      0.85      0.85     26250\n",
      "weighted avg       0.85      0.85      0.85     26250\n",
      "\n"
     ]
    },
    {
     "name": "stderr",
     "output_type": "stream",
     "text": [
      "c:\\Users\\Jhinnz\\Desktop\\GITLAB\\ter-m1\\bookmaker-model\\venv\\Lib\\site-packages\\xgboost\\training.py:183: UserWarning: [12:04:59] WARNING: C:\\actions-runner\\_work\\xgboost\\xgboost\\src\\learner.cc:738: \n",
      "Parameters: { \"use_label_encoder\" } are not used.\n",
      "\n",
      "  bst.update(dtrain, iteration=i, fobj=obj)\n"
     ]
    },
    {
     "name": "stdout",
     "output_type": "stream",
     "text": [
      "XGBoost Classifier:\n",
      "Accuracy: 0.8563428571428572\n",
      "              precision    recall  f1-score   support\n",
      "\n",
      "           0       0.81      0.90      0.85     12272\n",
      "           1       0.91      0.81      0.86     13978\n",
      "\n",
      "    accuracy                           0.86     26250\n",
      "   macro avg       0.86      0.86      0.86     26250\n",
      "weighted avg       0.86      0.86      0.86     26250\n",
      "\n"
     ]
    }
   ],
   "source": [
    "# Random Forest Classifier\n",
    "rf = RandomForestClassifier(n_estimators=100, random_state=42)\n",
    "rf.fit(X_train, y_train)\n",
    "y_pred_rf = rf.predict(X_test)\n",
    "print(\"Random Forest Classifier:\")\n",
    "print(\"Accuracy:\", accuracy_score(y_test, y_pred_rf))\n",
    "print(classification_report(y_test, y_pred_rf))\n",
    "# XGBoost Classifierimport xgboost as xgb\n",
    "\n",
    "xgb = XGBClassifier(\n",
    "    n_estimators=200,\n",
    "    max_depth=3,\n",
    "    learning_rate=0.1,\n",
    "    subsample=0.8,\n",
    "    colsample_bytree=0.8,\n",
    "    reg_alpha=1.0,   # Pénalisation L1 → sparse model\n",
    "    reg_lambda=2.0,  # Pénalisation L2 → réduit les gros poids\n",
    "    random_state=42,\n",
    "    use_label_encoder=False,\n",
    "    eval_metric='logloss'\n",
    ")\n",
    "\n",
    "xgb.fit(X_train, y_train)\n",
    "y_pred_xgb = xgb.predict(X_test)\n",
    "print(\"XGBoost Classifier:\")\n",
    "print(\"Accuracy:\", accuracy_score(y_test, y_pred_xgb))\n",
    "print(classification_report(y_test, y_pred_xgb))\n"
   ]
  },
  {
   "cell_type": "markdown",
   "metadata": {},
   "source": [
    "# Importance du model (poids des colonnes)"
   ]
  },
  {
   "cell_type": "code",
   "execution_count": 6,
   "metadata": {},
   "outputs": [
    {
     "name": "stdout",
     "output_type": "stream",
     "text": [
      "Feature Importances du modèle de base (calibrated_xgb) : [0.02389019 0.02878525 0.00405397 0.00469568 0.00360749 0.00403835\n",
      " 0.0053813  0.00444041 0.33249393 0.3633401  0.06918891 0.07560943\n",
      " 0.00327831 0.0038263  0.00544612 0.00610201 0.00405131 0.00430099\n",
      " 0.00394627 0.0036239  0.00347903 0.004291   0.00506822 0.00633023\n",
      " 0.00474476 0.00417119 0.00482631 0.00390808 0.00468138 0.00439956]\n"
     ]
    },
    {
     "data": {
      "image/png": "[encoded data removed]",
      "text/plain": [
       "<Figure size 1000x600 with 1 Axes>"
      ]
     },
     "metadata": {},
     "output_type": "display_data"
    }
   ],
   "source": [
    "# Récupérer le modèle de base depuis le CalibratedClassifierCV (cas cv='prefit')\n",
    "base_model = xgb\n",
    "\n",
    "# Vérifier si le modèle de base a l'attribut feature_importances_\n",
    "if hasattr(base_model, 'feature_importances_'):\n",
    "    feature_importances = base_model.feature_importances_\n",
    "    print(\"Feature Importances du modèle de base (calibrated_xgb) :\", feature_importances)\n",
    "else:\n",
    "    print(\"Le modèle de base n'a pas d'attribut 'feature_importances_'\")\n",
    "\n",
    "# Optionnel : remplace ceci par tes vrais noms de colonnes\n",
    "feature_names = X_train.columns if hasattr(X_train, 'columns') else [f\"{relevant_features[i]}\" for i in range(len(feature_importances))]\n",
    "\n",
    "# Tri décroissant des importances\n",
    "sorted_idx = np.argsort(feature_importances)[::-1]\n",
    "sorted_importances = feature_importances[sorted_idx]\n",
    "sorted_names = np.array(feature_names)[sorted_idx]\n",
    "\n",
    "# Affichage\n",
    "plt.figure(figsize=(10, 6))\n",
    "plt.barh(sorted_names, sorted_importances)\n",
    "plt.xlabel(\"Importance\")\n",
    "plt.title(\"Feature Importances - calibrated_xgb\")\n",
    "plt.gca().invert_yaxis()\n",
    "plt.tight_layout()\n",
    "plt.show()\n"
   ]
  },
  {
   "cell_type": "markdown",
   "metadata": {},
   "source": [
    "# Prédicition de cotes"
   ]
  },
  {
   "cell_type": "code",
   "execution_count": 58,
   "metadata": {},
   "outputs": [
    {
     "name": "stdout",
     "output_type": "stream",
     "text": [
      "Odds for Karmine Corp: 1.82\n",
      "Odds for G2 Esports: 1.99\n"
     ]
    },
    {
     "name": "stderr",
     "output_type": "stream",
     "text": [
      "c:\\Users\\Jhinnz\\Desktop\\GITLAB\\ter-m1\\bookmaker-model\\venv\\Lib\\site-packages\\sklearn\\utils\\validation.py:2732: UserWarning: X has feature names, but StandardScaler was fitted without feature names\n",
      "  warnings.warn(\n",
      "c:\\Users\\Jhinnz\\Desktop\\GITLAB\\ter-m1\\bookmaker-model\\venv\\Lib\\site-packages\\sklearn\\utils\\validation.py:2732: UserWarning: X has feature names, but StandardScaler was fitted without feature names\n",
      "  warnings.warn(\n"
     ]
    }
   ],
   "source": [
    "team_1 = \"Karmine Corp\"\n",
    "team_2 = \"G2 Esports\"\n",
    "# No current gameid provided\n",
    "def predict_winner_proba(team_1, team_2):\n",
    "    current_gameid = None\n",
    "    # Get the last 5 matches between the two teams\n",
    "    last_5_matches_team_1 = get_last_5_matches(team_1, n_matches=10)\n",
    "    last_5_matches_team_2 = get_last_5_matches(team_2, n_matches=10)\n",
    "\n",
    "    df_to_predict = pd.DataFrame({\n",
    "        'blue_team_recent_win_rate': np.mean([match['Blue_team_result'] for match in last_5_matches_team_1]),\n",
    "        'red_team_recent_win_rate': np.mean([match['Red_team_result'] for match in last_5_matches_team_2]),\n",
    "        'blue_team_recent_kd_ratio': np.mean([match['Blue_team_kills'] / (match['Blue_team_deaths'] + 1e-6) for match in last_5_matches_team_1]),\n",
    "        'red_team_recent_kd_ratio': np.mean([match['Red_team_kills'] / (match['Red_team_deaths'] + 1e-6) for match in last_5_matches_team_2]),\n",
    "        'blue_team_recent_dragons': np.mean([match['Blue_team_dragons'] for match in last_5_matches_team_1]),\n",
    "        'red_team_recent_dragons': np.mean([match['Red_team_dragons'] for match in last_5_matches_team_2]),\n",
    "        'blue_team_recent_barons': np.mean([match['Blue_team_barons'] for match in last_5_matches_team_1]),\n",
    "        'red_team_recent_barons': np.mean([match['Red_team_barons'] for match in last_5_matches_team_2]),\n",
    "        'blue_team_recent_1v1_win_rate': [get_last_5_matches_1v1_win_rate(team_1, team_2, current_gameid)],\n",
    "        'red_team_recent_1v1_win_rate': [get_last_5_matches_1v1_win_rate(team_2, team_1, current_gameid)],\n",
    "        'blue_team_recent_1v1_kd_ratio': [get_last_5_matches_1v1_kd_ratio(team_1, team_2, current_gameid)],\n",
    "        'red_team_recent_1v1_kd_ratio': [get_last_5_matches_1v1_kd_ratio(team_2, team_1, current_gameid)],\n",
    "        'blue_team_recent_1v1_dragons': [get_last_5_matches_1v1_dragons(team_1, team_2, current_gameid)],\n",
    "        'red_team_recent_1v1_dragons': [get_last_5_matches_1v1_dragons(team_2, team_1, current_gameid)],\n",
    "        'blue_team_recent_1v1_barons': [get_last_5_matches_1v1_barons(team_1, team_2, current_gameid)],\n",
    "        'red_team_recent_1v1_barons': [get_last_5_matches_1v1_barons(team_2, team_1, current_gameid)],\n",
    "        'blue_team_last3_win_rate': np.mean([match['Blue_team_result'] for match in last_5_matches_team_1[-3:]]),\n",
    "        'red_team_last3_win_rate': np.mean([match['Red_team_result'] for match in last_5_matches_team_2[-3:]]),\n",
    "        'blue_team_last3_kd_ratio': np.mean([match['Blue_team_kills'] / (match['Blue_team_deaths'] + 1e-6) for match in last_5_matches_team_1[-3:]]),\n",
    "        'red_team_last3_kd_ratio': np.mean([match['Red_team_kills'] / (match['Red_team_deaths'] + 1e-6) for match in last_5_matches_team_2[-3:]]),\n",
    "        'blue_team_kd_ratio_std_20': np.std([match['Blue_team_kills'] / (match['Blue_team_deaths'] + 1e-6) for match in last_5_matches_team_1[-20:]]),\n",
    "        'red_team_kd_ratio_std_20': np.std([match['Red_team_kills'] / (match['Red_team_deaths'] + 1e-6) for match in last_5_matches_team_2[-20:]]),\n",
    "        'blue_team_kills_std_20': np.std([match['Blue_team_kills'] for match in last_5_matches_team_1[-20:]]),\n",
    "        'red_team_kills_std_20': np.std([match['Red_team_kills'] for match in last_5_matches_team_2[-20:]]),\n",
    "        'blue_team_deaths_std_20': np.std([match['Blue_team_deaths'] for match in last_5_matches_team_1[-20:]]),\n",
    "        'red_team_deaths_std_20': np.std([match['Red_team_deaths'] for match in last_5_matches_team_2[-20:]]),\n",
    "        'blue_team_dragons_std_20': np.std([match['Blue_team_dragons'] for match in last_5_matches_team_1[-20:]]),\n",
    "        'red_team_dragons_std_20': np.std([match['Red_team_dragons'] for match in last_5_matches_team_2[-20:]]),\n",
    "        'blue_team_barons_std_20': np.std([match['Blue_team_barons'] for match in last_5_matches_team_1[-20:]]),\n",
    "        'red_team_barons_std_20': np.std([match['Red_team_barons'] for match in last_5_matches_team_2[-20:]]),\n",
    "    })\n",
    "\n",
    "    # Remplacer les NaN par 0\n",
    "    df_to_predict = df_to_predict.fillna(0)\n",
    "    df_to_predict = df_to_predict.replace([np.inf, -np.inf], 0)\n",
    "    # Normaliser les données\n",
    "    # Assurez-vous que le scaler est ajusté sur les données d'entraînement\n",
    "    scaler = StandardScaler()\n",
    "    # Ajuster le scaler sur les données d'entraînement\n",
    "    scaler.fit(X_train)\n",
    "    df_to_predict = scaler.transform(df_to_predict)\n",
    "    # Prédire les probabilités de victoire pour chaque équipe\n",
    "    proba_team_1 = xgb.predict_proba(df_to_predict)[:, 1]\n",
    "    proba_team_2 = xgb.predict_proba(df_to_predict)[:, 0]\n",
    "    return proba_team_1[0], proba_team_2[0]\n",
    "\n",
    "def predict_odds(team_1, team_2):\n",
    "    p1a, p2a = predict_winner_proba(team_1, team_2)\n",
    "    p1b, p2b = predict_winner_proba(team_2, team_1)\n",
    "\n",
    "    # Moyenne des prédictions symétriques\n",
    "    proba_team_1 = (p1a + p2b) / 2\n",
    "    proba_team_2 = (p2a + p1b) / 2\n",
    "\n",
    "    # marge maudite de 5%\n",
    "    proba_team_1 = proba_team_1 * 1.05\n",
    "    proba_team_2 = proba_team_2 * 1.05\n",
    "\n",
    "    # Calcul des cotes\n",
    "    odds_team_1 = 1 / proba_team_1\n",
    "    odds_team_2 = 1 / proba_team_2\n",
    "    return odds_team_1, odds_team_2\n",
    "\n",
    "odds_team_1, odds_team_2 = predict_odds(team_1, team_2)\n",
    "print(f\"Odds for {team_1}: {odds_team_1:.2f}\")\n",
    "print(f\"Odds for {team_2}: {odds_team_2:.2f}\")"
   ]
  },
  {
   "cell_type": "markdown",
   "metadata": {},
   "source": [
    "# Sauvegarde du model"
   ]
  },
  {
   "cell_type": "code",
   "execution_count": 57,
   "metadata": {},
   "outputs": [],
   "source": [
    "xgb.save_model(\"../models/xgboost_model.json\")"
   ]
  },
  {
   "cell_type": "markdown",
   "metadata": {},
   "source": [
    "# test avec les fichier src"
   ]
  },
  {
   "cell_type": "markdown",
   "metadata": {},
   "source": [
    "## Setup"
   ]
  },
  {
   "cell_type": "code",
   "execution_count": 1,
   "metadata": {},
   "outputs": [],
   "source": [
    "import sys\n",
    "import os\n",
    "\n",
    "sys.path.append(os.path.abspath(\"..\"))\n",
    "sys.dont_write_bytecode = True"
   ]
  },
  {
   "cell_type": "markdown",
   "metadata": {},
   "source": [
    "## Import"
   ]
  },
  {
   "cell_type": "code",
   "execution_count": null,
   "metadata": {},
   "outputs": [
    {
     "name": "stdout",
     "output_type": "stream",
     "text": [
      "Taux de victoire sur les 5 derniers matchs calculé.\n",
      "Ratio K/D sur les 5 derniers matchs calculé.\n",
      "Nombre moyen de dragons tués sur les 5 derniers matchs calculé.\n",
      "Nombre moyen de barons tués sur les 5 derniers matchs calculé.\n",
      "Taux de victoire sur les 3 derniers matchs calculé.\n",
      "Ratio K/D sur les 3 derniers matchs calculé.\n",
      "Ecart-type des kills, deaths, dragons et barons, kd sur les 20 derniers matchs calculé.\n",
      "Taux de victoire sur les 5 derniers matchs calculé. (1v1)\n",
      "Ratio K/D sur les 5 derniers matchs calculé. (1v1)\n",
      "Nombre moyen de dragons tués sur les 5 derniers matchs calculé. (1v1)\n",
      "Nombre moyen de barons tués sur les 5 derniers matchs calculé. (1v1)\n"
     ]
    },
    {
     "name": "stderr",
     "output_type": "stream",
     "text": [
      "c:\\Users\\Jhinnz\\Desktop\\GITLAB\\ter-m1\\bookmaker-model\\venv\\Lib\\site-packages\\xgboost\\training.py:183: UserWarning: [20:13:10] WARNING: C:\\actions-runner\\_work\\xgboost\\xgboost\\src\\learner.cc:738: \n",
      "Parameters: { \"use_label_encoder\" } are not used.\n",
      "\n",
      "  bst.update(dtrain, iteration=i, fobj=obj)\n"
     ]
    },
    {
     "name": "stdout",
     "output_type": "stream",
     "text": [
      "XGBoost Classifier:\n",
      "Accuracy: 0.8563428571428572\n",
      "              precision    recall  f1-score   support\n",
      "\n",
      "           0       0.81      0.90      0.85     12272\n",
      "           1       0.91      0.81      0.86     13978\n",
      "\n",
      "    accuracy                           0.86     26250\n",
      "   macro avg       0.86      0.86      0.86     26250\n",
      "weighted avg       0.86      0.86      0.86     26250\n",
      "\n",
      "Model XGBoost saved as ../models/XGBoost_model_20250512_201311.pkl\n",
      "Odds for Karmine Corp: 1.82\n",
      "Odds for G2 Esports: 1.99\n"
     ]
    }
   ],
   "source": [
    "from src.data_preprocessing import preprocess_data\n",
    "from src.features import load_data, create_features\n",
    "from src.model import generate_train, model_training\n",
    "from src.predict import predict_odds\n",
    "\n",
    "df, confrontations, team_matches = load_data()\n",
    "create_features(df, confrontations, team_matches)\n",
    "X_train, X_test, y_train, y_test, scaler_path = generate_train()\n",
    "model_name = \"XGBoost\"\n",
    "model, model_path = model_training(X_train, X_test, y_train, y_test, model_name)\n",
    "team_1 = \"Karmine Corp\"\n",
    "team_2 = \"G2 Esports\"\n",
    "\n",
    "odds_team_1, odds_team_2 = predict_odds(team_1, team_2, model_path, scaler_path, confrontations, team_matches)\n",
    "print(f\"Odds for {team_1}: {odds_team_1:.2f}\")\n",
    "print(f\"Odds for {team_2}: {odds_team_2:.2f}\")\n"
   ]
  }
 ],
 "metadata": {
  "kernelspec": {
   "display_name": "Python 3",
   "language": "python",
   "name": "python3"
  },
  "language_info": {
   "codemirror_mode": {
    "name": "ipython",
    "version": 3
   },
   "file_extension": ".py",
   "mimetype": "text/x-python",
   "name": "python",
   "nbconvert_exporter": "python",
   "pygments_lexer": "ipython3",
   "version": "3.12.10"
  }
 },
 "nbformat": 4,
 "nbformat_minor": 2
}
